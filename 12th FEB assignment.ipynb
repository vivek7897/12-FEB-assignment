{
 "cells": [
  {
   "cell_type": "code",
   "execution_count": null,
   "id": "67764d04-8bd7-4113-8b8e-2fe6108690a2",
   "metadata": {},
   "outputs": [],
   "source": [
    "Q1= What is an Exception in python? Write the difference betwen Exceptions and Syntex error?"
   ]
  },
  {
   "cell_type": "code",
   "execution_count": null,
   "id": "cb0db7fd-651a-4de2-8d93-696b4e5e738a",
   "metadata": {},
   "outputs": [],
   "source": [
    "In Python, an exception is an event that occurs during the execution of a program that disrupts the normal flow of instructions.\n",
    "When an exception occurs, the program terminates abruptly and displays an error message describing the problem.\n",
    "\n",
    "On the other hand, a syntax error occurs when the code you have written does not follow the rules of the Python language.\n",
    "Syntax errors are detected by the Python interpreter before your code is executed, and they prevent the program from running at all.\n",
    "\n",
    "The main differences between exceptions and syntax errors are:\n",
    "\n",
    "Timing: Syntax errors are detected during the compilation or parsing of your code, while exceptions occur at runtime when the code is being executed.\n",
    "\n",
    "Cause: Syntax errors are caused by invalid code that violates the rules of the Python language,\n",
    "while exceptions are caused by unexpected situations that arise during the execution of a program.\n",
    "\n",
    "Handling: Syntax errors cannot be handled by the program because they prevent the program from running at all,\n",
    "while exceptions can be handled using try-except blocks to catch and respond to them appropriately.\n",
    "\n",
    "In summary, while both syntax errors and exceptions are errors in Python, \n",
    "they differ in when they occur, what causes them, and how they can be handled.Q2=  W"
   ]
  },
  {
   "cell_type": "code",
   "execution_count": null,
   "id": "3eeac4bb-ce4b-4a47-acc9-6ef6cb0f6120",
   "metadata": {},
   "outputs": [],
   "source": [
    "Q2=  What happen when execution is not handled? explain with an example?"
   ]
  },
  {
   "cell_type": "code",
   "execution_count": null,
   "id": "d2d00562-2322-48bc-abbc-7db8b406f04c",
   "metadata": {},
   "outputs": [],
   "source": [
    "When execution is not handled, it can lead to various problems, such as program crashes, \n",
    "data loss, security vulnerabilities, and other unexpected behaviors.\n",
    "\n",
    "For example, let's say you are developing a web application that allows users to upload and share files. \n",
    "If you don't handle execution errors properly, there is a risk that a user might upload a file that contains malicious code,\n",
    "which could then be executed on your server. This could potentially compromise the security of your entire system.\n",
    "\n",
    "Another example could be in the context of a software application that requires database access. \n",
    "If you don't handle database connection errors properly, your application might crash or fail to function correctly, causing users to lose their data.\n",
    "\n",
    "In general, failure to handle execution errors can lead to unpredictable behavior that can cause problems for users, \n",
    "system administrators, and developers. Proper error handling and exception management are critical components of software development, \n",
    "and should be carefully considered and implemented to ensure that applications function correctly and securly.\n"
   ]
  },
  {
   "cell_type": "code",
   "execution_count": null,
   "id": "f904df78-8bca-44a8-bf92-7167e67b153b",
   "metadata": {},
   "outputs": [],
   "source": [
    "Q3= Explain with an example\n",
    "a- Try and else\n",
    "b- finally\n",
    "c- Raise"
   ]
  },
  {
   "cell_type": "code",
   "execution_count": 1,
   "id": "49ad2b44-6582-49b6-adc2-1affccc7075b",
   "metadata": {},
   "outputs": [
    {
     "ename": "SyntaxError",
     "evalue": "unmatched ')' (765971238.py, line 1)",
     "output_type": "error",
     "traceback": [
      "\u001b[0;36m  Cell \u001b[0;32mIn[1], line 1\u001b[0;36m\u001b[0m\n\u001b[0;31m    a) Try and else:\u001b[0m\n\u001b[0m     ^\u001b[0m\n\u001b[0;31mSyntaxError\u001b[0m\u001b[0;31m:\u001b[0m unmatched ')'\n"
     ]
    }
   ],
   "source": [
    "a) Try and else:\n",
    "\n",
    "#Try and else statements are used in Python to handle exceptions in the code. \n",
    "#The 'try' block contains the code that might raise an exception, and the 'else' block contains \n",
    "#code that will be executed if there are no exceptions in the 'try' block.\n",
    "\n",
    "#For example, let's say we want to divide two numbers entered by the user, \n",
    "#but we also want to handle the case where the user enters 0 as the second number. \n",
    "#Here's how we can use the 'try' and 'else' statements to achieve this:\n",
    "try:\n",
    "    num1 = int(input(\"Enter the first number: \"))\n",
    "    num2 = int(input(\"Enter the second number: \"))\n",
    "    result = num1 / num2\n",
    "except ZeroDivisionError:\n",
    "    print(\"Cannot divide by zero!\")\n",
    "else:\n",
    "    print(\"The result is:\", result)\n"
   ]
  },
  {
   "cell_type": "code",
   "execution_count": null,
   "id": "4881a00b-e353-459d-9084-addacfc179a0",
   "metadata": {},
   "outputs": [],
   "source": [
    "b) Finally:\n",
    "\n",
    "#The 'finally' block is used in Python to specify a block of code that will be executed whether or not an exception is raised. \n",
    "#This block of code is typically used to release resources or close files that were opened in the 'try' block, ensuring that they are properly cleaned up.\n",
    "\n",
    "#For example, let's say we want to read the contents of a file, \n",
    "#and then close the file whether or not an exception is raised. Here's how we can use the 'finally' block to achieve this:\n",
    "try:\n",
    "    file = open(\"myfile.txt\")\n",
    "    contents = file.read()\n",
    "    print(contents)\n",
    "except IOError:\n",
    "    print(\"Error reading file!\")\n",
    "finally:\n",
    "    file.close()\n"
   ]
  },
  {
   "cell_type": "code",
   "execution_count": null,
   "id": "f23c5d0d-e5ee-4ce1-a304-965a197b7085",
   "metadata": {},
   "outputs": [],
   "source": [
    "c) Raise:\n",
    "\n",
    "#The 'raise' statement in Python is used to raise an exception manually.\n",
    "#This can be useful in situations where you want to indicate that an error has occurred in your code, even if it's not caused by a built-in Python exception.\n",
    "\n",
    "#For example, let's say we're writing a function that calculates the square of a number\n",
    "# but we only want to accept positive numbers. Here's how we can use the 'raise' statement to raise an exception if a negative number is passed in:\n",
    "def square(num):\n",
    "    if num < 0:\n",
    "        raise ValueError(\"Cannot calculate square of a negative number!\")\n",
    "    return num ** 2\n",
    "\n"
   ]
  },
  {
   "cell_type": "code",
   "execution_count": null,
   "id": "71168f24-aa6e-433b-8c3b-92103e844886",
   "metadata": {},
   "outputs": [],
   "source": [
    "Q4= What are custom Exceptions in python? Why do we need customs exceptions? Explai with an exapmle?"
   ]
  },
  {
   "cell_type": "code",
   "execution_count": null,
   "id": "4141482c-f852-4129-877c-8085c02740ca",
   "metadata": {},
   "outputs": [],
   "source": [
    "Custom exceptions in Python are user-defined exceptions that extend the built-in Exception class or any of its derived classes.\n",
    "These exceptions are designed to handle specific error conditions that may occur in a program.\n",
    "\n",
    "We need custom exceptions in Python to handle specific error conditions that may occur in our program. For example, \n",
    "if we are creating a program that reads a file and performs some operations on its contents, we may encounter a file not found error.\n",
    "We can use a custom exception to handle this error condition and provide a more meaningful error message to the user.\n",
    "\n",
    "Here is an example of a custom exception in Python:"
   ]
  },
  {
   "cell_type": "code",
   "execution_count": null,
   "id": "b621ac65-90e2-4e7e-a3cb-2ee94ece4d85",
   "metadata": {},
   "outputs": [],
   "source": [
    "class FileNotFound(Exception):\n",
    "    def __init__(self, filename):\n",
    "        self.filename = filename\n",
    "        \n",
    "    def __str__(self):\n",
    "        return f'File not found: {self.filename}'\n"
   ]
  },
  {
   "cell_type": "code",
   "execution_count": null,
   "id": "3fbc640b-230f-4809-99d2-ba3e93920fc6",
   "metadata": {},
   "outputs": [],
   "source": [
    "In this example, we have defined a custom exception called FileNotFound. It extends the built-in Exception class \n",
    "and takes a filename as a parameter in its constructor. We have also defined a __str__ method that returns a string representation of the exception.\n",
    "\n",
    "Now, let's use this custom exception in a program that reads a file:"
   ]
  },
  {
   "cell_type": "code",
   "execution_count": null,
   "id": "121731de-38c9-4df4-a241-00c227b67695",
   "metadata": {},
   "outputs": [],
   "source": [
    "filename = 'example.txt'\n",
    "\n",
    "try:\n",
    "    with open(filename, 'r') as file:\n",
    "        # perform some operations on the file\n",
    "except FileNotFoundError:\n",
    "    raise FileNotFound(filename)\n"
   ]
  },
  {
   "cell_type": "code",
   "execution_count": null,
   "id": "30a535ee-18fb-4d54-b5c6-0398974da0cb",
   "metadata": {},
   "outputs": [],
   "source": [
    "In this example, we are trying to open a file called example.txt. If the file is not found, Python will raise a FileNotFoundError.\n",
    "We catch this exception and raise our custom exception FileNotFound with the filename as a parameter.\n",
    "\n",
    "By using a custom exception, we can provide a more meaningful error message to the user.\n",
    "Instead of the generic FileNotFoundError, the user will see the message \"File not found: example.txt\", which is much more informative."
   ]
  },
  {
   "cell_type": "code",
   "execution_count": null,
   "id": "58b6a5a7-8bc7-48ae-82a0-1069af88c27a",
   "metadata": {},
   "outputs": [],
   "source": [
    "Q6= Create a cuatom example class? Use class to handle exception."
   ]
  },
  {
   "cell_type": "code",
   "execution_count": null,
   "id": "ed417856-3ca5-43dd-8adf-42f3cec7ed33",
   "metadata": {},
   "outputs": [],
   "source": [
    "#Here's an example of a custom class called Division that handles division by zero errors:\n",
    "class Division:\n",
    "    def __init__(self, numerator, denominator):\n",
    "        self.numerator = numerator\n",
    "        self.denominator = denominator\n",
    "    \n",
    "    def divide(self):\n",
    "        try:\n",
    "            result = self.numerator / self.denominator\n",
    "            return result\n",
    "        except ZeroDivisionError:\n",
    "            print(\"Error: Division by zero is not allowed.\")\n"
   ]
  },
  {
   "cell_type": "code",
   "execution_count": null,
   "id": "d053b0e9-f30e-4fed-b293-cce88f3c8756",
   "metadata": {},
   "outputs": [],
   "source": [
    "Sure, here's an example of a custom class called Division that handles division by zero errors:\n",
    "\n",
    "python\n",
    "Copy code\n",
    "class Division:\n",
    "    def __init__(self, numerator, denominator):\n",
    "        self.numerator = numerator\n",
    "        self.denominator = denominator\n",
    "    \n",
    "    def divide(self):\n",
    "        try:\n",
    "            result = self.numerator / self.denominator\n",
    "            return result\n",
    "        except ZeroDivisionError:\n",
    "            print(\"Error: Division by zero is not allowed.\")\n",
    "In this example, we define a class Division with two attributes numerator and denominator. We also define a method divide() that tries to divide the numerator by the denominator. If the denominator is zero, a ZeroDivisionError will be raised and the exception will be caught by the except block, which prints an error message to the console.\n",
    "\n",
    "We can use this custom class to handle division by zero errors like this:"
   ]
  }
 ],
 "metadata": {
  "kernelspec": {
   "display_name": "Python 3 (ipykernel)",
   "language": "python",
   "name": "python3"
  },
  "language_info": {
   "codemirror_mode": {
    "name": "ipython",
    "version": 3
   },
   "file_extension": ".py",
   "mimetype": "text/x-python",
   "name": "python",
   "nbconvert_exporter": "python",
   "pygments_lexer": "ipython3",
   "version": "3.10.8"
  }
 },
 "nbformat": 4,
 "nbformat_minor": 5
}
